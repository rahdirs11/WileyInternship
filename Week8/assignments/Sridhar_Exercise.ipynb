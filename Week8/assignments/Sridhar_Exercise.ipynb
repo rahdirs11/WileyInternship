{
 "metadata": {
  "language_info": {
   "codemirror_mode": {
    "name": "ipython",
    "version": 3
   },
   "file_extension": ".py",
   "mimetype": "text/x-python",
   "name": "python",
   "nbconvert_exporter": "python",
   "pygments_lexer": "ipython3",
   "version": "3.9.1"
  },
  "orig_nbformat": 4,
  "kernelspec": {
   "name": "python3",
   "display_name": "Python 3.9.1 64-bit"
  },
  "interpreter": {
   "hash": "0ac516125b3ee16d4eaa41f008fade7bad50b808bd1b6d74d2e8ae0015ba9066"
  }
 },
 "nbformat": 4,
 "nbformat_minor": 2,
 "cells": [
  {
   "cell_type": "code",
   "execution_count": 1,
   "metadata": {},
   "outputs": [
    {
     "output_type": "stream",
     "name": "stdout",
     "text": [
      "Length of the string Sridhar is 7\n"
     ]
    }
   ],
   "source": [
    "# 1) Write a program that prints the length of a string\n",
    "string = input('Enter a string:\\t')\n",
    "print(f'Length of the string {string} is {len(string)}')"
   ]
  },
  {
   "cell_type": "code",
   "execution_count": 3,
   "metadata": {},
   "outputs": [
    {
     "output_type": "stream",
     "name": "stdout",
     "text": [
      "String without characters in even indices:\trda\n"
     ]
    }
   ],
   "source": [
    "# 2) Write a Python program that prints the string s without the characters located at even indices.\n",
    "# If the string is empty or only has one character, print it intact.\n",
    "string2 = input('Enter a string:\\t')\n",
    "evenIndices = [x for i, x in enumerate(string2) if i % 2]\n",
    "output = string2 if len(string2) == 1 else ''.join(evenIndices)\n",
    "print(f'String without characters in even indices:\\t{output}')"
   ]
  },
  {
   "cell_type": "code",
   "execution_count": 5,
   "metadata": {},
   "outputs": [
    {
     "output_type": "stream",
     "name": "stdout",
     "text": [
      "List A => []\nList B => [10, 20, 30]\nList A - List B => []\n"
     ]
    }
   ],
   "source": [
    "# 3) Write a Python program that prints (as a list) the elements of listA that are not in listB as a list.\n",
    "# If the lists have the same elements, print an empty list.\n",
    "# If listA is an empty list, print an empty list.\n",
    "listA = list(map(int, input('Enter numbers of list A:\\t').split()))\n",
    "listB = list(map(int, input('Enter numbers of list B:\\t').split()))\n",
    "\n",
    "output = [x for x in listA if x not in listB] if len(listA) != 0 else []\n",
    "\n",
    "print(f'List A => {listA}\\nList B => {listB}\\nList A - List B => {output}')\n"
   ]
  },
  {
   "cell_type": "code",
   "execution_count": 8,
   "metadata": {},
   "outputs": [
    {
     "output_type": "stream",
     "name": "stdout",
     "text": [
      "Distance between A(1, 1, 1) and B(1, 1, 1) => 0.0\n"
     ]
    }
   ],
   "source": [
    "# 4) Calculate distance\n",
    "import math\n",
    "x1, y1, z1 = map(int, input('Enter the co-ordinates of Point A:\\t').split())\n",
    "x2, y2, z2 = map(int, input('Enter the co-ordinates of Point B:\\t').split())\n",
    "\n",
    "AB = math.sqrt(math.pow(x2 - x1, 2) + math.pow(y2 - y1, 2) + math.pow(z2 - z1, 2))\n",
    "print(f'Distance between A({x1}, {y1}, {z1}) and B({x2}, {y2}, {z2}) => {AB}')"
   ]
  },
  {
   "cell_type": "code",
   "execution_count": 11,
   "metadata": {},
   "outputs": [
    {
     "output_type": "stream",
     "name": "stdout",
     "text": [
      "The frequency of elements in the list =>\n{'1': 2, '2': 3, '3': 2, '4': 1}\n"
     ]
    }
   ],
   "source": [
    "# 5) Write a python program that creates and print a dictionary that maps each element in a list to its corresponding frequency\n",
    "list3 = list(input().split())\n",
    "freq = {}\n",
    "\n",
    "for e in list3:\n",
    "    freq[e] = freq.get(e, 0) + 1\n",
    "\n",
    "print(f'The frequency of elements in the list =>\\n{freq}')"
   ]
  },
  {
   "cell_type": "code",
   "execution_count": 14,
   "metadata": {},
   "outputs": [
    {
     "output_type": "stream",
     "name": "stdout",
     "text": [
      "[('1', '2', '3'), ('1', '3', '2'), ('2', '1', '3'), ('2', '3', '1'), ('3', '1', '2'), ('3', '2', '1')]\n"
     ]
    }
   ],
   "source": [
    "# 6) permutations of a list\n",
    "import itertools\n",
    "\n",
    "list4 = list(input('Enter a list of elements:\\t').split())\n",
    "\n",
    "permutations = list(itertools.permutations(list4))\n",
    "\n",
    "print(permutations)"
   ]
  },
  {
   "cell_type": "code",
   "execution_count": 18,
   "metadata": {},
   "outputs": [
    {
     "output_type": "stream",
     "name": "stdout",
     "text": [
      "Davis key is already in the dictionary\n{'Sridhar': 21, 'Antony': 22, 'Davis': 22}\n"
     ]
    }
   ],
   "source": [
    "# 7) adding a new_key and new_value\n",
    "studentAges = {\n",
    "    'Sridhar': 21,\n",
    "    'Antony': 22,\n",
    "    'Davis': 22\n",
    "}\n",
    "\n",
    "name, age = input('Enter name and age:\\t').split()\n",
    "age = int(age)\n",
    "\n",
    "if name not in studentAges:\n",
    "    studentAges[name] = age\n",
    "else:\n",
    "    print(f'{name} key is already in the dictionary')\n",
    "\n",
    "print(studentAges)"
   ]
  },
  {
   "cell_type": "code",
   "execution_count": 3,
   "metadata": {},
   "outputs": [
    {
     "output_type": "stream",
     "name": "stdout",
     "text": [
      "True False False Empty\n"
     ]
    }
   ],
   "source": [
    "# 8) checking if all values in dictionary are equal\n",
    "dict1 = {'a': 4, 'b': 4, 'c': 4}\n",
    "dict2 = {'a': 4, 'b': 6, 'c': 4}\n",
    "dict3 = {'a': 4, 'b': 6, 'c': 10}\n",
    "dict4 = {}\n",
    "\n",
    "def checkValues(pairs):\n",
    "    return 'Empty' if len(pairs.values()) == 0 else len(set(pairs.values())) == 1\n",
    "\n",
    "print(checkValues(dict1), checkValues(dict2), checkValues(dict3), checkValues(dict4))"
   ]
  },
  {
   "cell_type": "code",
   "execution_count": 5,
   "metadata": {},
   "outputs": [
    {
     "output_type": "stream",
     "name": "stdout",
     "text": [
      "Winter\n"
     ]
    }
   ],
   "source": [
    "# 9) season\n",
    "seasons = {\n",
    "    1: 'Spring',\n",
    "    2: 'Summer',\n",
    "    3: 'Fall',\n",
    "    4: 'Winter',\n",
    "}\n",
    "\n",
    "choice = int(input('Please enter a season number:\\t'))\n",
    "\n",
    "print(seasons.get(choice, 'Please enter a valid number'))"
   ]
  },
  {
   "cell_type": "code",
   "execution_count": 15,
   "metadata": {},
   "outputs": [
    {
     "output_type": "stream",
     "name": "stdout",
     "text": [
      "Roots => 0.5, -3.0\n"
     ]
    }
   ],
   "source": [
    "# 10) roots\n",
    "a, b, c = map(int, input('Enter the co-efficients of the roots').split())\n",
    "\n",
    "discriminant = b ** 2 - (4 * a * c)\n",
    "\n",
    "if discriminant == 0:\n",
    "    print(f'Equal roots => {-b / (2 * a)}')\n",
    "elif discriminant > 0:\n",
    "    print(f'Roots => {(-b + discriminant ** 0.5) / (2 * a)}, {(-b - discriminant ** 0.5) / (2 * a)}')\n",
    "else:\n",
    "    print('Complex roots')"
   ]
  },
  {
   "cell_type": "code",
   "execution_count": 12,
   "metadata": {},
   "outputs": [
    {
     "output_type": "stream",
     "name": "stdout",
     "text": [
      "{'a': 1, 'b': 2, 'c': 3, 'd': 4}\n{'Dhoni': 7, 'Kohli': 18, 'Raina': 3}\n"
     ]
    }
   ],
   "source": [
    "# 11) Nested list to dictionary\n",
    "\n",
    "nestedList = [['a', 1], ['b', 2], ['c', 3], ['d', 4]]\n",
    "nestedList2 = [['Dhoni', 7], ['Kohli', 18], ['Raina', 3]]\n",
    "\n",
    "def listTodict(lst: list) -> dict:\n",
    "    return dict(lst)\n",
    "\n",
    "print(listTodict(nestedList), listTodict(nestedList2), sep='\\n')"
   ]
  },
  {
   "cell_type": "code",
   "execution_count": 13,
   "metadata": {},
   "outputs": [
    {
     "output_type": "stream",
     "name": "stdout",
     "text": [
      "{'i': 1, 'a': 1, 'm': 1, 't': 2, 'h': 1, 'e': 2, 'b': 1, 's': 1}\n"
     ]
    }
   ],
   "source": [
    "# 12) frequency\n",
    "sentence = input('Enter a string:\\t').lower()\n",
    "\n",
    "freq = {}\n",
    "\n",
    "for s in sentence:\n",
    "    if s.isalpha():\n",
    "        freq[s] = freq.get(s, 0) + 1\n",
    "\n",
    "print(freq)"
   ]
  },
  {
   "cell_type": "code",
   "execution_count": null,
   "metadata": {},
   "outputs": [],
   "source": []
  }
 ]
}