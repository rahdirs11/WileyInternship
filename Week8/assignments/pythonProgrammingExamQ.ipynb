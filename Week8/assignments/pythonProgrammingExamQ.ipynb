{
 "metadata": {
  "language_info": {
   "codemirror_mode": {
    "name": "ipython",
    "version": 3
   },
   "file_extension": ".py",
   "mimetype": "text/x-python",
   "name": "python",
   "nbconvert_exporter": "python",
   "pygments_lexer": "ipython3",
   "version": "3.9.1"
  },
  "orig_nbformat": 4,
  "kernelspec": {
   "name": "python3",
   "display_name": "Python 3.9.1 64-bit"
  },
  "interpreter": {
   "hash": "0ac516125b3ee16d4eaa41f008fade7bad50b808bd1b6d74d2e8ae0015ba9066"
  }
 },
 "nbformat": 4,
 "nbformat_minor": 2,
 "cells": [
  {
   "cell_type": "code",
   "execution_count": 21,
   "metadata": {},
   "outputs": [
    {
     "output_type": "stream",
     "name": "stdout",
     "text": [
      "Positive Comments:\t ['He is a good boy', 'He is an awesome player', 'She is the best', 'These burger are really nice']\nNegative Comments:\t ['Food is the worst here', 'This pizza tastes awful']\n"
     ]
    }
   ],
   "source": [
    "# 1)\n",
    "\n",
    "positive = ['good','awesome', 'best', 'nice']\n",
    "negative = ['worst','awful', 'bad']\n",
    "\n",
    "\n",
    "tweets = ['He is a good boy', 'Food is the worst here', 'He is an awesome player', 'She is the best', 'This pizza tastes awful', 'These burger are really nice']\n",
    "\n",
    "positiveComments, negativeComments = [], []\n",
    "\n",
    "for tweet in tweets:\n",
    "    for word in tweet.split():\n",
    "        if word.lower() in positive:\n",
    "            positiveComments.append(tweet)\n",
    "            break\n",
    "        if word.lower() in negative:\n",
    "            negativeComments.append(tweet)\n",
    "            break\n",
    "\n",
    "print('Positive Comments:\\t', positiveComments)\n",
    "print('Negative Comments:\\t', negativeComments)"
   ]
  },
  {
   "cell_type": "code",
   "execution_count": 1,
   "metadata": {},
   "outputs": [
    {
     "output_type": "stream",
     "name": "stdout",
     "text": [
      "82.0\n"
     ]
    }
   ],
   "source": [
    "\n",
    "# 2)\n",
    "d = {\n",
    "    'Square': lambda x: x ** 2,\n",
    "    'Cube': lambda x: x ** 3,\n",
    "    'Squareroot': lambda x: x ** 0.5\n",
    "}\n",
    "\n",
    "number = int(input('Enter a number:\\t'))\n",
    "\n",
    "print(d['Square'](number) + d['Cube'](number) + d['Squareroot'](number))"
   ]
  },
  {
   "cell_type": "code",
   "execution_count": 22,
   "metadata": {},
   "outputs": [
    {
     "output_type": "stream",
     "name": "stdout",
     "text": [
      "Sour Fruits: Lemon, Grapes, Kiwi, Orange, Limes\n"
     ]
    }
   ],
   "source": [
    "# 3)\n",
    "fruits = (('Lemon','sour'), ('DragonFruit', 'Sweet'), ('Grapes','soUr'), ('Kiwi','Sour'), ('Apples','sweet'), ('Orange','sour'), ('Blueberries','sweet'), ('Limes','Sour') )\n",
    "\n",
    "sourFruits = tuple(filter(lambda x: x[1].lower() == 'sour', fruits))\n",
    "result = [x for x, y in sourFruits]\n",
    "print(f'Sour Fruits: {\", \".join(result)}')"
   ]
  },
  {
   "cell_type": "code",
   "execution_count": 3,
   "metadata": {},
   "outputs": [
    {
     "output_type": "stream",
     "name": "stdout",
     "text": [
      "['hOw', 'ARe']\n"
     ]
    }
   ],
   "source": [
    "# 4)\n",
    " \n",
    "words = ['hello', 'Dear', 'hOw', 'ARe', 'You']\n",
    "print(list(filter(lambda x: x[1].isupper(), words)))"
   ]
  },
  {
   "cell_type": "code",
   "execution_count": 7,
   "metadata": {},
   "outputs": [
    {
     "output_type": "execute_result",
     "data": {
      "text/plain": [
       "{'John': 7.44, 'Shelly': 10.75, 'Mary': 5.79}"
      ]
     },
     "metadata": {},
     "execution_count": 7
    }
   ],
   "source": [
    "# 5)\n",
    "\n",
    "WeightOnEarth = {\n",
    "    'John': 45,\n",
    "    'Shelly': 65,\n",
    "    'Mary': 35\n",
    "}\n",
    "\n",
    "gMoon, gEarth = 1.622, 9.81\n",
    "\n",
    "wMoon = lambda x: float(f'{x * gMoon / gEarth:.2f}')\n",
    "\n",
    "WeightOnMoon = {\n",
    "    name: wMoon(weight)\n",
    "    for name, weight in WeightOnEarth.items()\n",
    "}\n",
    "\n",
    "WeightOnMoon"
   ]
  },
  {
   "cell_type": "code",
   "execution_count": 11,
   "metadata": {},
   "outputs": [
    {
     "output_type": "execute_result",
     "data": {
      "text/plain": [
       "['Maria', 'Hello', 'World', 'Merry', 'You']"
      ]
     },
     "metadata": {},
     "execution_count": 11
    }
   ],
   "source": [
    "# 6)\n",
    "\n",
    "namesList = ['santa Maria', 'Hello World','Merry christmas', 'tHank You']\n",
    "output = []\n",
    "\n",
    "for name in namesList:\n",
    "    for n in name.split():\n",
    "        if n[0].isupper():\n",
    "            output.append(n)\n",
    "\n",
    "output"
   ]
  },
  {
   "cell_type": "code",
   "execution_count": 16,
   "metadata": {},
   "outputs": [
    {
     "output_type": "execute_result",
     "data": {
      "text/plain": [
       "{3, 8}"
      ]
     },
     "metadata": {},
     "execution_count": 16
    }
   ],
   "source": [
    "# 7)\n",
    "from functools import reduce\n",
    "given_sets = [[1, 2, 3, 4, 8], [2, 3, 8, 5, 6], [8, 4, 5, 3, 7], [6, 9, 8, 3], [9, 12, 3, 7, 6, 8, 4, 6, 21, 1, 6]]\n",
    "given_sets = reduce(lambda x, y: set(x).intersection(set(y)), given_sets)\n",
    "\n",
    "given_sets"
   ]
  },
  {
   "cell_type": "code",
   "execution_count": null,
   "metadata": {},
   "outputs": [],
   "source": [
    "# 8)\n",
    "from itertools import accumulate\n",
    "\n",
    "numbers = [5,2,1,4,6]\n",
    "\n",
    "cumulativeAvg = [x / (i + 1) for i, x in enumerate(list(accumulate(numbers)))]\n",
    "cumulativeAvg"
   ]
  },
  {
   "cell_type": "code",
   "execution_count": 17,
   "metadata": {},
   "outputs": [
    {
     "output_type": "execute_result",
     "data": {
      "text/plain": [
       "['TRUE', 'FALSE', 'TRUE', 'TRUE', 'FALSE', 'FALSE']"
      ]
     },
     "metadata": {},
     "execution_count": 17
    }
   ],
   "source": [
    "# 9)\n",
    "isBool = ['True','FALse','tRUe','tRue','False','faLse']\n",
    "output = list(map(lambda x: x.upper(), isBool))\n",
    "\n",
    "output"
   ]
  },
  {
   "cell_type": "code",
   "execution_count": 20,
   "metadata": {},
   "outputs": [
    {
     "output_type": "execute_result",
     "data": {
      "text/plain": [
       "['1997', '2011', '1993', '2020']"
      ]
     },
     "metadata": {},
     "execution_count": 20
    }
   ],
   "source": [
    "# 10)\n",
    "datesList = ['17-12-1997','22-04-2011','01-05-1993','19-06-2020']\n",
    "output = list(map(lambda x: x[-4: ], datesList))\n",
    "output"
   ]
  },
  {
   "cell_type": "code",
   "execution_count": null,
   "metadata": {},
   "outputs": [],
   "source": []
  }
 ]
}