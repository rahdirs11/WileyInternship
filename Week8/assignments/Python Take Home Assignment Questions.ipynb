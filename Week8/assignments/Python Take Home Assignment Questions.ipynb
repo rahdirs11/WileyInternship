{
 "cells": [
  {
   "cell_type": "markdown",
   "metadata": {},
   "source": [
    "# Python Take-home Exercise"
   ]
  },
  {
   "cell_type": "markdown",
   "metadata": {},
   "source": [
    "### 1. Write a program using list comprehension to find primes in range 2 to 100"
   ]
  },
  {
   "cell_type": "code",
   "execution_count": 40,
   "metadata": {},
   "outputs": [
    {
     "output_type": "stream",
     "name": "stdout",
     "text": [
      "[2, 3, 5, 7, 11, 13, 17, 19, 23, 29, 31, 37, 41, 43, 47, 53, 59, 61, 67, 71, 73, 79, 83, 89, 97]\n"
     ]
    }
   ],
   "source": [
    "def isPrime(number: int) -> bool:\n",
    "    for x in range(2, number // 2 + 1):\n",
    "        if number % x == 0:\n",
    "            return False\n",
    "    return True\n",
    "\n",
    "primes = [x for x in range(2, 101) if isPrime(x)]\n",
    "\n",
    "print(primes)"
   ]
  },
  {
   "cell_type": "markdown",
   "metadata": {},
   "source": [
    "### 2. Write a function to reverse a string"
   ]
  },
  {
   "cell_type": "markdown",
   "metadata": {},
   "source": [
    "**String = 'Data Science'**"
   ]
  },
  {
   "cell_type": "code",
   "execution_count": 1,
   "metadata": {},
   "outputs": [
    {
     "output_type": "execute_result",
     "data": {
      "text/plain": [
       "'ecneicS ataD'"
      ]
     },
     "metadata": {},
     "execution_count": 1
    }
   ],
   "source": [
    "def reverseString(string: str) -> str:\n",
    "    return string[::-1]\n",
    "\n",
    "reverseString('Data Science')"
   ]
  },
  {
   "cell_type": "markdown",
   "metadata": {},
   "source": [
    "### 3. Write a program to extract the words from the given list which have their first character in uppercase"
   ]
  },
  {
   "cell_type": "markdown",
   "metadata": {},
   "source": [
    "**Days = ['Monday', 'tuesday','friday', 'Sunday', 'Saturday']**\n",
    "\n",
    "**Output: ['Monday', 'Sunday', 'Saturday']**"
   ]
  },
  {
   "cell_type": "code",
   "execution_count": 2,
   "metadata": {},
   "outputs": [
    {
     "output_type": "execute_result",
     "data": {
      "text/plain": [
       "['Monday', 'Sunday', 'Saturday']"
      ]
     },
     "metadata": {},
     "execution_count": 2
    }
   ],
   "source": [
    "Days = ['Monday', 'tuesday','friday', 'Sunday', 'Saturday']\n",
    "\n",
    "output = list(filter(lambda x: x[0].isupper(), Days))\n",
    "output"
   ]
  },
  {
   "cell_type": "markdown",
   "metadata": {},
   "source": [
    "### 4. Write a program to extract the year part from the dates in the given list"
   ]
  },
  {
   "cell_type": "markdown",
   "metadata": {},
   "source": [
    "**Batch = ['15-06-1997','15-06-2011','15-06-1993','15-06-2020']**\n",
    "\n",
    "**Output: ['1997','2011','1993','2020']**"
   ]
  },
  {
   "cell_type": "code",
   "execution_count": 4,
   "metadata": {},
   "outputs": [
    {
     "output_type": "execute_result",
     "data": {
      "text/plain": [
       "['1997', '2011', '1993', '2020']"
      ]
     },
     "metadata": {},
     "execution_count": 4
    }
   ],
   "source": [
    "Batch = '15-06-1997','15-06-2011','15-06-1993','15-06-2020'\n",
    "output = [x[-4: ] for x in Batch]\n",
    "output"
   ]
  },
  {
   "cell_type": "markdown",
   "metadata": {},
   "source": [
    "### 5. Write a program swap the keys to values and values to keys of the given dictionary"
   ]
  },
  {
   "cell_type": "markdown",
   "metadata": {},
   "source": [
    "**Module = {'Data Science':1,'Machine Learning':2, 'SQL':3, 'Big Data':4}**\n",
    "\n",
    "**Output: {1:'Data Science',2:'Machine Learning', 3:'SQL', 4:'Big Data'}**\n"
   ]
  },
  {
   "cell_type": "code",
   "execution_count": 17,
   "metadata": {},
   "outputs": [
    {
     "output_type": "execute_result",
     "data": {
      "text/plain": [
       "{1: 'Data Science', 2: 'Machine Learning', 3: 'SQL', 4: 'Big Data'}"
      ]
     },
     "metadata": {},
     "execution_count": 17
    }
   ],
   "source": [
    "Module = {'Data Science':1,'Machine Learning':2, 'SQL':3, 'Big Data':4}\n",
    "\n",
    "keys, values = Module.keys(), Module.values()\n",
    "\n",
    "output = dict(zip(values, keys))\n",
    "\n",
    "output"
   ]
  },
  {
   "cell_type": "markdown",
   "metadata": {},
   "source": [
    "### 6. Wrote a program to calculate the cumulative average of the given list using accumulate() and lambda function"
   ]
  },
  {
   "cell_type": "markdown",
   "metadata": {},
   "source": [
    "**Input list: [5,2,1,4,6]**"
   ]
  },
  {
   "cell_type": "code",
   "execution_count": 38,
   "metadata": {},
   "outputs": [
    {
     "output_type": "execute_result",
     "data": {
      "text/plain": [
       "[5.0, 3.5, 2.6666666666666665, 3.0, 3.6]"
      ]
     },
     "metadata": {},
     "execution_count": 38
    }
   ],
   "source": [
    "from itertools import accumulate\n",
    "\n",
    "numbers = [5,2,1,4,6]\n",
    "\n",
    "cumulativeAvg = [x / (i + 1) for i, x in enumerate(list(accumulate(numbers)))]\n",
    "cumulativeAvg"
   ]
  },
  {
   "cell_type": "markdown",
   "metadata": {},
   "source": [
    "### 7. Write a program to count the number of elements in the string (given by the user) that are not present in the 'my_string'. Do not count the white spaces\n",
    "\n",
    "Use Recursion"
   ]
  },
  {
   "cell_type": "markdown",
   "metadata": {},
   "source": [
    "**my_string = 'Data Science'**"
   ]
  },
  {
   "cell_type": "code",
   "execution_count": 13,
   "metadata": {},
   "outputs": [
    {
     "output_type": "execute_result",
     "data": {
      "text/plain": [
       "9"
      ]
     },
     "metadata": {},
     "execution_count": 13
    }
   ],
   "source": [
    "def count(string):\n",
    "    if len(string) == 0:\n",
    "        return 0\n",
    "    \n",
    "    if string[-1] != ' ':\n",
    "        return count(string[: -1]) + 1\n",
    "    else:\n",
    "        return count(string[: -1])\n",
    "\n",
    "count('Data Science')"
   ]
  },
  {
   "cell_type": "markdown",
   "metadata": {},
   "source": [
    "### 8.  Define a function to check whether a number is in a range (1000,10000) or not"
   ]
  },
  {
   "cell_type": "code",
   "execution_count": 8,
   "metadata": {},
   "outputs": [
    {
     "output_type": "execute_result",
     "data": {
      "text/plain": [
       "False"
      ]
     },
     "metadata": {},
     "execution_count": 8
    }
   ],
   "source": [
    "def inRange(number: int) -> bool:\n",
    "    return number in range(1000, 10001)\n",
    "\n",
    "inRange(100)"
   ]
  },
  {
   "cell_type": "markdown",
   "metadata": {},
   "source": [
    "### 9. Write a program to print pascal triangle upto 6 steps (using list)"
   ]
  },
  {
   "cell_type": "code",
   "execution_count": 12,
   "metadata": {},
   "outputs": [
    {
     "output_type": "stream",
     "name": "stdout",
     "text": [
      "      1 \n     1 1 \n    1 2 1 \n   1 3 3 1 \n  1 4 6 4 1 \n 1 6 1 0 5 1 \n"
     ]
    }
   ],
   "source": [
    "# pascal = [11 ** i for i in range(6)]\n",
    "\n",
    "# print(pascal)\n",
    "\n",
    "def reverseNumber(number):\n",
    "    rev = 0\n",
    "    while number > 0:\n",
    "        rev = rev * 10 + number % 10\n",
    "        number //= 10\n",
    "    return rev\n",
    "\n",
    "n = int(input('Enter the limit:\\t'))\n",
    "pascal = [11 ** i for i in range(n)]\n",
    "\n",
    "for i, num in enumerate(pascal):\n",
    "    print(' ' * (n - i - 1), end=' ')\n",
    "    num = reverseNumber(num)\n",
    "    while num > 0:\n",
    "        print(num % 10, end=' ')\n",
    "        num //= 10\n",
    "    print()\n"
   ]
  },
  {
   "cell_type": "markdown",
   "metadata": {},
   "source": [
    "### 10. Write a program to calculate the sum of all elements in the list"
   ]
  },
  {
   "cell_type": "markdown",
   "metadata": {},
   "source": [
    "**test_score = [10, 32, 23, 14, 25]**"
   ]
  },
  {
   "cell_type": "code",
   "execution_count": 6,
   "metadata": {},
   "outputs": [
    {
     "output_type": "stream",
     "name": "stdout",
     "text": [
      "104\n"
     ]
    }
   ],
   "source": [
    "test_score = [10, 32, 23, 14, 25]\n",
    "print(sum(test_score))"
   ]
  },
  {
   "cell_type": "code",
   "execution_count": null,
   "metadata": {},
   "outputs": [],
   "source": []
  }
 ],
 "metadata": {
  "kernelspec": {
   "name": "python3",
   "display_name": "Python 3.8.5 64-bit ('base': conda)"
  },
  "language_info": {
   "codemirror_mode": {
    "name": "ipython",
    "version": 3
   },
   "file_extension": ".py",
   "mimetype": "text/x-python",
   "name": "python",
   "nbconvert_exporter": "python",
   "pygments_lexer": "ipython3",
   "version": "3.8.5"
  },
  "interpreter": {
   "hash": "b3ba2566441a7c06988d0923437866b63cedc61552a5af99d1f4fb67d367b25f"
  }
 },
 "nbformat": 4,
 "nbformat_minor": 2
}