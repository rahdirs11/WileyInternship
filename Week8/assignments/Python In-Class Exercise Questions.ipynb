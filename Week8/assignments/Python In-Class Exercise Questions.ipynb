{
 "cells": [
  {
   "cell_type": "markdown",
   "metadata": {},
   "source": [
    "# Python In-class Exercise"
   ]
  },
  {
   "cell_type": "markdown",
   "metadata": {},
   "source": [
    "### 1. Write a program to check whether an year entered by an user is leap year or not"
   ]
  },
  {
   "cell_type": "code",
   "execution_count": 3,
   "metadata": {},
   "outputs": [
    {
     "output_type": "stream",
     "name": "stdout",
     "text": [
      "2004 is a leap year!\n"
     ]
    }
   ],
   "source": [
    "year = int(input('Enter a year:\\t'))\n",
    "\n",
    "def isLeapYear(year: int) -> bool:\n",
    "    if not year % 4:\n",
    "        if not year % 100:\n",
    "            return not year % 400\n",
    "        else:\n",
    "            return True\n",
    "    \n",
    "    return False\n",
    "\n",
    "print(f'{year} is {\"a\" if isLeapYear(year) else \"not a\"} leap year!')"
   ]
  },
  {
   "cell_type": "markdown",
   "metadata": {},
   "source": [
    "### 2. Take a string containing punctuation marks as an input from user and write a program to remove all the  punctuation marks from a string"
   ]
  },
  {
   "cell_type": "code",
   "execution_count": 7,
   "metadata": {},
   "outputs": [
    {
     "output_type": "stream",
     "name": "stdout",
     "text": [
      "String without punctuation marks :\tI am the best he said\n"
     ]
    }
   ],
   "source": [
    "punctuations = ['!', '.', '?', ',', ':', ';', '-', '(', ')', '\\'', '\\\"', '...']\n",
    "\n",
    "string = input('Enter a sentence:\\t')\n",
    "\n",
    "string = ''.join(list(filter(lambda x: x not in punctuations, string)))\n",
    "print(f'String without punctuation marks :\\t{string}')"
   ]
  },
  {
   "cell_type": "markdown",
   "metadata": {},
   "source": [
    "### 3. Take two separate numbers as input from the user and Write a program to swap 2 numbers without using temporary variable"
   ]
  },
  {
   "cell_type": "code",
   "execution_count": 8,
   "metadata": {},
   "outputs": [
    {
     "output_type": "stream",
     "name": "stdout",
     "text": [
      "Before swapping => a = 10, b = 20\nAfter swapping =>a = 20, b = 10\n"
     ]
    }
   ],
   "source": [
    "a, b = map(int, input().split())\n",
    "\n",
    "def swap(a, b):\n",
    "    # using xor method\n",
    "    a ^= b\n",
    "    b ^= a\n",
    "    a ^= b\n",
    "    return a, b\n",
    "\n",
    "print(f'Before swapping => a = {a}, b = {b}\\nAfter swapping =>', end=\"\")\n",
    "a, b = swap(a, b)\n",
    "print(f'a = {a}, b = {b}')"
   ]
  },
  {
   "cell_type": "markdown",
   "metadata": {},
   "source": [
    "### 4. Write a program to print product of following variables\n",
    "<br> integer = 10 \n",
    "<br> string = \"15\""
   ]
  },
  {
   "cell_type": "markdown",
   "metadata": {},
   "source": [
    "### 5. Write a program to print following pattern\n",
    "<br>a\n",
    "<br>b c\n",
    "<br>d e f\n",
    "<br>g h i j\n",
    "<br>k l m n o\n",
    "<br>p q r s t u"
   ]
  },
  {
   "cell_type": "code",
   "execution_count": 34,
   "metadata": {
    "tags": []
   },
   "outputs": [
    {
     "output_type": "stream",
     "name": "stdout",
     "text": [
      "a \nb c \nd e f \ng h i j \nk l m n o \np q r s t u \nv w x y z \n"
     ]
    }
   ],
   "source": [
    "# The input here is, the number of alphabets the user wants in the pattern\n",
    "# (to make it dynamic)\n",
    "\n",
    "limit = int(input('Enter a number in the range [1, 26] =>'))\n",
    "\n",
    "if limit not in range(1, 27):\n",
    "    print(f'Invalid input! Choice out of range ({limit})')\n",
    "else:\n",
    "    i = 1\n",
    "    line = 1\n",
    "    while i <= limit:\n",
    "        j = 1\n",
    "        while j <= line:\n",
    "            if i > 26 or i > limit:\n",
    "                break\n",
    "            print(chr(96 + i), end=\" \")\n",
    "            j += 1\n",
    "            i += 1\n",
    "        line += 1\n",
    "        print()"
   ]
  },
  {
   "cell_type": "markdown",
   "metadata": {},
   "source": [
    "### 6. Write a program to print tables from 2 to n, where n is provided by user"
   ]
  },
  {
   "cell_type": "code",
   "execution_count": 1,
   "metadata": {},
   "outputs": [
    {
     "output_type": "stream",
     "name": "stdout",
     "text": [
      "2 * 1 = 2 \n2 * 2 = 4 \n2 * 3 = 6 \n2 * 4 = 8 \n2 * 5 = 10 \n2 * 6 = 12 \n2 * 7 = 14 \n2 * 8 = 16 \n2 * 9 = 18 \n2 * 10 = 20 \n===============\n3 * 1 = 3 \n3 * 2 = 6 \n3 * 3 = 9 \n3 * 4 = 12 \n3 * 5 = 15 \n3 * 6 = 18 \n3 * 7 = 21 \n3 * 8 = 24 \n3 * 9 = 27 \n3 * 10 = 30 \n===============\n4 * 1 = 4 \n4 * 2 = 8 \n4 * 3 = 12 \n4 * 4 = 16 \n4 * 5 = 20 \n4 * 6 = 24 \n4 * 7 = 28 \n4 * 8 = 32 \n4 * 9 = 36 \n4 * 10 = 40 \n===============\n5 * 1 = 5 \n5 * 2 = 10 \n5 * 3 = 15 \n5 * 4 = 20 \n5 * 5 = 25 \n5 * 6 = 30 \n5 * 7 = 35 \n5 * 8 = 40 \n5 * 9 = 45 \n5 * 10 = 50 \n===============\n6 * 1 = 6 \n6 * 2 = 12 \n6 * 3 = 18 \n6 * 4 = 24 \n6 * 5 = 30 \n6 * 6 = 36 \n6 * 7 = 42 \n6 * 8 = 48 \n6 * 9 = 54 \n6 * 10 = 60 \n===============\n7 * 1 = 7 \n7 * 2 = 14 \n7 * 3 = 21 \n7 * 4 = 28 \n7 * 5 = 35 \n7 * 6 = 42 \n7 * 7 = 49 \n7 * 8 = 56 \n7 * 9 = 63 \n7 * 10 = 70 \n===============\n8 * 1 = 8 \n8 * 2 = 16 \n8 * 3 = 24 \n8 * 4 = 32 \n8 * 5 = 40 \n8 * 6 = 48 \n8 * 7 = 56 \n8 * 8 = 64 \n8 * 9 = 72 \n8 * 10 = 80 \n===============\n9 * 1 = 9 \n9 * 2 = 18 \n9 * 3 = 27 \n9 * 4 = 36 \n9 * 5 = 45 \n9 * 6 = 54 \n9 * 7 = 63 \n9 * 8 = 72 \n9 * 9 = 81 \n9 * 10 = 90 \n===============\n10 * 1 = 10 \n10 * 2 = 20 \n10 * 3 = 30 \n10 * 4 = 40 \n10 * 5 = 50 \n10 * 6 = 60 \n10 * 7 = 70 \n10 * 8 = 80 \n10 * 9 = 90 \n10 * 10 = 100 \n===============\n"
     ]
    }
   ],
   "source": [
    "n = int(input('Enter the limit:\\t'))\n",
    "\n",
    "for i in range(2, n + 1):\n",
    "    for j in range(1, 11):\n",
    "        print(f'{i} * {j} = {i * j} ')\n",
    "    print('=' * 15)"
   ]
  },
  {
   "cell_type": "markdown",
   "metadata": {},
   "source": [
    "### 7. Write a program to read height (in centimeters) from user and then convert it to feet and inches"
   ]
  },
  {
   "cell_type": "code",
   "execution_count": 30,
   "metadata": {},
   "outputs": [
    {
     "output_type": "stream",
     "name": "stdout",
     "text": [
      "1 cm is 0.0328084 feet and 0.393701 inch\n"
     ]
    }
   ],
   "source": [
    "cm = int(input('Enter height in centimeters:\\t'))\n",
    "\n",
    "feet, inch = cm * 0.0328084, cm * 0.393701\n",
    "print(f'{cm} cm is {feet} feet and {inch} inch')"
   ]
  },
  {
   "cell_type": "markdown",
   "metadata": {},
   "source": [
    "### 8. Write a program to print following pattern"
   ]
  },
  {
   "cell_type": "markdown",
   "metadata": {},
   "source": [
    "                                                *\n",
    "                                                * * \n",
    "                                                * * *\n",
    "                                                * *\n",
    "                                                *"
   ]
  },
  {
   "cell_type": "code",
   "execution_count": 29,
   "metadata": {},
   "outputs": [
    {
     "output_type": "stream",
     "name": "stdout",
     "text": [
      "* \n* * \n* * * \n* * * * \n* * * \n* * \n* \n\n"
     ]
    }
   ],
   "source": [
    "n = int(input('Enter the limit:\\t'))\n",
    "\n",
    "# upper half\n",
    "i = 1\n",
    "while i <= n:\n",
    "    j = 1\n",
    "    while j <= i:\n",
    "        j += 1\n",
    "        print('*', end=\" \")\n",
    "    print()\n",
    "    i += 1\n",
    "\n",
    "# lower half\n",
    "i = n - 1\n",
    "while i >= 0:\n",
    "    j = 1\n",
    "    while j <= i:\n",
    "        j += 1\n",
    "        print('*', end=\" \")\n",
    "    print()\n",
    "    i -= 1\n"
   ]
  },
  {
   "cell_type": "markdown",
   "metadata": {},
   "source": [
    "### 9. Below list contains age and name of five students. Convert the list into a dictionary such that the name is taken as key and the age before their name is taken as thier respective value in the dictionary"
   ]
  },
  {
   "cell_type": "markdown",
   "metadata": {},
   "source": [
    "students = [26,'Jon',34,'Roger',13,'Jessica',24,'Monica',65,'Ashton']\n",
    "Output: {'Jon':26, 'Roger':34, 'Jessica':13, 'Monica':24, 'Ashton':65}"
   ]
  },
  {
   "cell_type": "code",
   "execution_count": 37,
   "metadata": {},
   "outputs": [
    {
     "output_type": "stream",
     "name": "stdout",
     "text": [
      "{'Jon': 26, 'Roger': 34, 'Jessica': 13, 'Monica': 24, 'Ashton': 65}\n"
     ]
    }
   ],
   "source": [
    "students = [26,'Jon',34,'Roger',13,'Jessica',24,'Monica',65,'Ashton']\n",
    "names, ages = [], []\n",
    "\n",
    "for i, val in enumerate(students):\n",
    "    if i % 2 == 1:\n",
    "        names.append(val)\n",
    "    else:\n",
    "        ages.append(val)\n",
    "\n",
    "\n",
    "result = dict(zip(names, ages))\n",
    "print(result)"
   ]
  },
  {
   "cell_type": "markdown",
   "metadata": {},
   "source": [
    "### 10. Write a program to check whether two strings, taken from user, are anagram or not"
   ]
  },
  {
   "cell_type": "code",
   "execution_count": 39,
   "metadata": {},
   "outputs": [
    {
     "output_type": "stream",
     "name": "stdout",
     "text": [
      "True\n"
     ]
    }
   ],
   "source": [
    "string1, string2 = input('Enter first String:\\t').lower(), input('Enter second string:\\t').lower()\n",
    "\n",
    "def calculateFrequency(string: str) -> dict:\n",
    "    f = {}\n",
    "    for s in string:\n",
    "        f[s] = f.get(s, 0) + 1\n",
    "    \n",
    "    return f\n",
    "\n",
    "\n",
    "def isAnagram(string1: str, string2: str) -> bool:\n",
    "    freq1, freq2 = calculateFrequency(string1), calculateFrequency(string2)\n",
    "\n",
    "    for k, v in freq1.items():\n",
    "        if freq2.get(k, 0) != v:\n",
    "            return False\n",
    "    return True\n",
    "\n",
    "print(isAnagram(string1, string2))"
   ]
  },
  {
   "cell_type": "markdown",
   "metadata": {},
   "source": [
    "### 11. Write a program that sorts all the elements of the list according to the first letter, irrespective of their cases (uppercase or lowercase). Note: Do not use any inbuilt sorting function"
   ]
  },
  {
   "cell_type": "code",
   "execution_count": 94,
   "metadata": {},
   "outputs": [
    {
     "output_type": "execute_result",
     "data": {
      "text/plain": [
       "['Ajay', 'Davis', 'deepak', 'Sridhar', 'silpa']"
      ]
     },
     "metadata": {},
     "execution_count": 94
    }
   ],
   "source": [
    "names = ['Sridhar', 'Davis', 'Ajay', 'deepak', 'silpa']\n",
    "\n",
    "sorted(names, key=lambda x: x[0].lower())"
   ]
  },
  {
   "cell_type": "markdown",
   "metadata": {},
   "source": [
    "### 12. Write a program that prints a list of sour fruits from the below tuple:\n",
    "<br>fruits = (('Lemon','sour'), ('DragonFruit', 'Sweet'), ('Grapes','soUr'), ('Kiwi','Sour'), ('Apples','sweet'), ('Orange','sour'), ('Blueberries','sweet'), ('Limes','Sour') ) \n",
    "\n",
    "<br>**Output**: Sour Fruits: ['Lemon', 'Grapes', 'Kiwi', 'Orange', 'Limes']"
   ]
  },
  {
   "cell_type": "code",
   "execution_count": 44,
   "metadata": {},
   "outputs": [
    {
     "output_type": "stream",
     "name": "stdout",
     "text": [
      "Sour Fruits: Lemon, Grapes, Kiwi, Orange, Limes\n"
     ]
    }
   ],
   "source": [
    "fruits = (('Lemon','sour'), ('DragonFruit', 'Sweet'), ('Grapes','soUr'), ('Kiwi','Sour'), ('Apples','sweet'), ('Orange','sour'), ('Blueberries','sweet'), ('Limes','Sour') )\n",
    "\n",
    "sourFruits = tuple(filter(lambda x: x[1].lower() == 'sour', fruits))\n",
    "result = [x for x, y in sourFruits]\n",
    "print(f'Sour Fruits: {\", \".join(result)}')"
   ]
  },
  {
   "cell_type": "markdown",
   "metadata": {},
   "source": [
    "### 13. Given below are the list of positive and negative words. Also a list of tweets is provided. Separate out the positive and negative comments"
   ]
  },
  {
   "cell_type": "markdown",
   "metadata": {},
   "source": [
    "<br>positive = ['good','awesome', 'best', 'nice']\n",
    "\n",
    "<br>negative = ['worst','awful', 'bad']\n",
    "\n",
    "<br>tweets = ['This government policies are good', \n",
    "'bad implementation', 'The way he played showed that he is one of the best players in the world', 'Her acting in the play was awesome', 'The wine tastes awful', 'It's nice to hear this little kid's laugh']"
   ]
  },
  {
   "cell_type": "code",
   "execution_count": 46,
   "metadata": {},
   "outputs": [
    {
     "output_type": "stream",
     "name": "stdout",
     "text": [
      "Positive Comments:\t ['This government policies are good', 'The way he played showed that he is one of the best players in the world', 'Her acting in the play was awesome', \"It's nice to hear this little kid's laugh\"]\nNegative Comments:\t ['bad implementation', 'The wine tastes awful']\n"
     ]
    }
   ],
   "source": [
    "positive = ['good','awesome', 'best', 'nice']\n",
    "negative = ['worst','awful', 'bad']\n",
    "\n",
    "\n",
    "tweets = ['This government policies are good', 'bad implementation', 'The way he played showed that he is one of the best players in the world', 'Her acting in the play was awesome', 'The wine tastes awful', 'It\\'s nice to hear this little kid\\'s laugh']\n",
    "\n",
    "positiveComments, negativeComments = [], []\n",
    "\n",
    "for tweet in tweets:\n",
    "    for word in tweet.split():\n",
    "        if word.lower() in positive:\n",
    "            positiveComments.append(tweet)\n",
    "            break\n",
    "        if word.lower() in negative:\n",
    "            negativeComments.append(tweet)\n",
    "            break\n",
    "\n",
    "print('Positive Comments:\\t', positiveComments)\n",
    "print('Negative Comments:\\t', negativeComments)"
   ]
  },
  {
   "cell_type": "markdown",
   "metadata": {},
   "source": [
    "### 14. Write a program that performs multiplication of the following two matrix"
   ]
  },
  {
   "cell_type": "code",
   "execution_count": 48,
   "metadata": {},
   "outputs": [
    {
     "output_type": "stream",
     "name": "stdout",
     "text": [
      "Enter matrix A =>\n",
      "Enter matrix B =>\n",
      "Matrix Multiplication of [[1 1]\n",
      " [1 1]] and [[1 1]\n",
      " [1 1]] is => [[2 2]\n",
      " [2 2]]\n"
     ]
    }
   ],
   "source": [
    "import numpy as np\n",
    "\n",
    "r1, c1 = map(int, input('Enter row and column of first matrix:\\t').split())\n",
    "r2, c2 = map(int, input('Enter row and column of second matrix:\\t').split())\n",
    "\n",
    "if r2 != c1:\n",
    "    print('Matrix Multiplication not possible')\n",
    "else:\n",
    "    print('Enter matrix A =>')\n",
    "    \n",
    "    A = np.array(\n",
    "        [np.array(list(map(int, input(f'Enter row {_} =>').split()))) for _ in range(r1)]\n",
    "    )\n",
    "\n",
    "    print('Enter matrix B =>')\n",
    "    B = np.array(\n",
    "        [np.array(list(map(int, input(f'Enter row {_} =>').split()))) for _ in range(r2)]\n",
    "    )\n",
    "\n",
    "    print(f'Matrix Multiplication of {A} and {B} is => {np.matmul(A, B)}')"
   ]
  },
  {
   "cell_type": "raw",
   "metadata": {},
   "source": [
    "X = [[1,2,3],\n",
    "    [4 ,5,6],\n",
    "    [7 ,8,9]]\n",
    "\n",
    "Y = [[1,8,1],\n",
    "    [3,7,3],\n",
    "    [4,5,9]]"
   ]
  },
  {
   "cell_type": "markdown",
   "metadata": {},
   "source": [
    "### 15. Write a program to remove space from keys of the given dictionary"
   ]
  },
  {
   "cell_type": "markdown",
   "metadata": {},
   "source": [
    "Employee = {'emp 01' : 'Raj', 'emp 02' : 'Sheela', 'emp 0 3 ': 'Joseph'}; \n",
    "\n",
    "Output:\n",
    "<br>New dictionary :  {'emp01': 'Raj', 'emp02': 'Sheela', 'emp03': 'Joseph'}"
   ]
  },
  {
   "cell_type": "code",
   "execution_count": 50,
   "metadata": {},
   "outputs": [
    {
     "output_type": "stream",
     "name": "stdout",
     "text": [
      "{'emp01': 'Raj', 'emp02': 'Sheela', 'emp03': 'Joseph'}\n"
     ]
    }
   ],
   "source": [
    "Employee = {'emp 01' : 'Raj', 'emp 02' : 'Sheela', 'emp 0 3 ': 'Joseph'};\n",
    "\n",
    "keys, values = list(Employee.keys()), list(Employee.values())\n",
    "\n",
    "for i in range(len(keys)):\n",
    "    keys[i] = ''.join(keys[i].split())\n",
    "\n",
    "output = dict(zip(keys, values))\n",
    "\n",
    "print(output)"
   ]
  },
  {
   "cell_type": "markdown",
   "metadata": {
    "collapsed": true
   },
   "source": [
    "### 16.  Write a program to display the subjects for which the scores are between 300 and 500 (inclusive) in the given dataframe"
   ]
  },
  {
   "cell_type": "markdown",
   "metadata": {},
   "source": [
    "**Use the dataframe given below:**\n",
    "    \n",
    "<table>\n",
    " <tr>\n",
    " <th>Subject</th>\n",
    " <th>Score</th>\n",
    " </tr>\n",
    " <tr>\n",
    " <td>Maths</td>\n",
    " <td>345</td>\n",
    " </tr>\n",
    " <tr>\n",
    " <td>Physics</td>\n",
    " <td>432</td>\n",
    " </tr>\n",
    " <tr>\n",
    " <td>Chemistry</td>\n",
    " <td>456</td>\n",
    " </tr>\n",
    " <tr>\n",
    " <td>Biology</td>\n",
    " <td>234</td>\n",
    " </tr>\n",
    " <tr>\n",
    " <td>Geology</td>\n",
    " <td>254</td>\n",
    " </tr>\n",
    "    \n",
    "</table>"
   ]
  },
  {
   "cell_type": "code",
   "execution_count": 56,
   "metadata": {},
   "outputs": [
    {
     "output_type": "execute_result",
     "data": {
      "text/plain": [
       "     Subject  Score\n",
       "0      Maths    345\n",
       "1    Physics    432\n",
       "2  Chemistry    456"
      ],
      "text/html": "<div>\n<style scoped>\n    .dataframe tbody tr th:only-of-type {\n        vertical-align: middle;\n    }\n\n    .dataframe tbody tr th {\n        vertical-align: top;\n    }\n\n    .dataframe thead th {\n        text-align: right;\n    }\n</style>\n<table border=\"1\" class=\"dataframe\">\n  <thead>\n    <tr style=\"text-align: right;\">\n      <th></th>\n      <th>Subject</th>\n      <th>Score</th>\n    </tr>\n  </thead>\n  <tbody>\n    <tr>\n      <th>0</th>\n      <td>Maths</td>\n      <td>345</td>\n    </tr>\n    <tr>\n      <th>1</th>\n      <td>Physics</td>\n      <td>432</td>\n    </tr>\n    <tr>\n      <th>2</th>\n      <td>Chemistry</td>\n      <td>456</td>\n    </tr>\n  </tbody>\n</table>\n</div>"
     },
     "metadata": {},
     "execution_count": 56
    }
   ],
   "source": [
    "import pandas as pd\n",
    "\n",
    "subjectScores = {\n",
    "    'Subject': ['Maths', 'Physics', 'Chemistry', 'Biology', 'Geology'],\n",
    "    'Score': [345, 432, 456, 234, 254]\n",
    "}\n",
    "\n",
    "df = pd.DataFrame(subjectScores)\n",
    "\n",
    "output = df[(df.Score >= 300) & (df.Score <= 500)]\n",
    "output"
   ]
  },
  {
   "cell_type": "markdown",
   "metadata": {},
   "source": [
    "### 17. Write a program to find numbers between 10000 to 20000 from a given array"
   ]
  },
  {
   "cell_type": "markdown",
   "metadata": {},
   "source": [
    "**Use the list given below:**\n",
    "\n",
    "Sales = [1432,143223,2043332,1642357,54327,754338,12459,75435,224454,1433,12447,25532,86674,74338,12678]"
   ]
  },
  {
   "cell_type": "code",
   "execution_count": 62,
   "metadata": {},
   "outputs": [
    {
     "output_type": "stream",
     "name": "stdout",
     "text": [
      "[12459 12447 12678]\n"
     ]
    }
   ],
   "source": [
    "import numpy as np\n",
    "\n",
    "Sales = np.array([1432,143223,2043332,1642357,54327,754338,12459,75435,224454,1433,12447,25532,86674,74338,12678])\n",
    "\n",
    "output = Sales[(Sales >= 10000) & (Sales <= 20000)]\n",
    "print(output)"
   ]
  },
  {
   "cell_type": "markdown",
   "metadata": {},
   "source": [
    "### 18. Write a program to sort the dataframe by Rank (in ascending order)"
   ]
  },
  {
   "cell_type": "markdown",
   "metadata": {},
   "source": [
    "**Use the dataframe given below:**\n",
    "    \n",
    "<table>\n",
    " <tr>\n",
    " <th>Name</th>\n",
    " <th>Rank</th>\n",
    " </tr>\n",
    " <tr>\n",
    " <td>Joy</td>\n",
    " <td>115</td>\n",
    " </tr>\n",
    " <tr>\n",
    " <td>Mia</td>\n",
    " <td>451</td>\n",
    " </tr>\n",
    " <tr>\n",
    " <td>Karan</td>\n",
    " <td>341</td>\n",
    " </tr>\n",
    " <tr>\n",
    " <td>Tom</td>\n",
    " <td>84</td>\n",
    " </tr>\n",
    "    \n",
    "</table>"
   ]
  },
  {
   "cell_type": "code",
   "execution_count": 73,
   "metadata": {},
   "outputs": [
    {
     "output_type": "execute_result",
     "data": {
      "text/plain": [
       "    Name  Rank\n",
       "3    Tom    84\n",
       "0    Joy   115\n",
       "2  Karan   341\n",
       "1    Mia   451"
      ],
      "text/html": "<div>\n<style scoped>\n    .dataframe tbody tr th:only-of-type {\n        vertical-align: middle;\n    }\n\n    .dataframe tbody tr th {\n        vertical-align: top;\n    }\n\n    .dataframe thead th {\n        text-align: right;\n    }\n</style>\n<table border=\"1\" class=\"dataframe\">\n  <thead>\n    <tr style=\"text-align: right;\">\n      <th></th>\n      <th>Name</th>\n      <th>Rank</th>\n    </tr>\n  </thead>\n  <tbody>\n    <tr>\n      <th>3</th>\n      <td>Tom</td>\n      <td>84</td>\n    </tr>\n    <tr>\n      <th>0</th>\n      <td>Joy</td>\n      <td>115</td>\n    </tr>\n    <tr>\n      <th>2</th>\n      <td>Karan</td>\n      <td>341</td>\n    </tr>\n    <tr>\n      <th>1</th>\n      <td>Mia</td>\n      <td>451</td>\n    </tr>\n  </tbody>\n</table>\n</div>"
     },
     "metadata": {},
     "execution_count": 73
    }
   ],
   "source": [
    "df = pd.DataFrame({\n",
    "    'Name': ['Joy', 'Mia', 'Karan', 'Tom'],\n",
    "    'Rank': [115, 451, 341, 84]\n",
    "})\n",
    "\n",
    "df.sort_values(by='Rank')\n"
   ]
  },
  {
   "cell_type": "markdown",
   "metadata": {},
   "source": [
    "### 19. Use the data given in the question 18, to do the following:\n",
    " Write a program to swap the 1st and 2nd row in a dataframe"
   ]
  },
  {
   "cell_type": "code",
   "execution_count": 74,
   "metadata": {},
   "outputs": [
    {
     "output_type": "stream",
     "name": "stdout",
     "text": [
      "before swapping\n     Name  Rank\n0    Joy   115\n1    Mia   451\n2  Karan   341\n3    Tom    84\nAfter swapping\n     Name  Rank\n0    Mia   451\n1    Joy   115\n2  Karan   341\n3    Tom    84\n"
     ]
    }
   ],
   "source": [
    "print('before swapping\\n', df)\n",
    "\n",
    "temp = df.iloc[0]\n",
    "df.iloc[0] = df.iloc[1]\n",
    "\n",
    "df.iloc[1] = temp\n",
    "\n",
    "print('After swapping\\n', df)"
   ]
  },
  {
   "cell_type": "markdown",
   "metadata": {},
   "source": [
    "### 20. Convert a 1D array to a 2D array containing 2 rows"
   ]
  },
  {
   "cell_type": "code",
   "execution_count": null,
   "metadata": {},
   "outputs": [],
   "source": []
  },
  {
   "cell_type": "markdown",
   "metadata": {},
   "source": [
    "**Use the array given below:**\n",
    "    \n",
    "dim_1 = ([331, 245, 246, 475, 348, 229])"
   ]
  },
  {
   "cell_type": "code",
   "execution_count": 80,
   "metadata": {},
   "outputs": [
    {
     "output_type": "execute_result",
     "data": {
      "text/plain": [
       "array([[331, 245, 246],\n",
       "       [475, 348, 229]])"
      ]
     },
     "metadata": {},
     "execution_count": 80
    }
   ],
   "source": [
    "dim_1 = np.array([331, 245, 246, 475, 348, 229])\n",
    "\n",
    "dim_1.reshape(2, dim_1.shape[0] // 2)"
   ]
  },
  {
   "cell_type": "markdown",
   "metadata": {},
   "source": [
    "### 21. Find the average cost of each variety of product available in the three different shops"
   ]
  },
  {
   "cell_type": "markdown",
   "metadata": {},
   "source": [
    "**Use the data given below:**\n",
    "    \n",
    "[[10, 20, 30], [17, 14, 21], [25, 15, 12]],\n",
    "  columns=['product_a', 'product_b', 'product_c'],\n",
    "  index=['Shop1', 'Shop2', 'Shop3']"
   ]
  },
  {
   "cell_type": "markdown",
   "metadata": {},
   "source": [
    "### 22. Write a program to delete items from series_a that are present in series_b and print the updated series_a"
   ]
  },
  {
   "cell_type": "markdown",
   "metadata": {},
   "source": [
    "**Use the series given below:**\n",
    "    \n",
    "series_a = ([11, 12, 13, 14, 15])<br>\n",
    "series_b= ([14, 15, 16, 17, 18])"
   ]
  },
  {
   "cell_type": "code",
   "execution_count": 92,
   "metadata": {},
   "outputs": [
    {
     "output_type": "execute_result",
     "data": {
      "text/plain": [
       "[11, 12, 13]"
      ]
     },
     "metadata": {},
     "execution_count": 92
    }
   ],
   "source": [
    "series_a = [11, 12, 13, 14, 15]\n",
    "series_b= [14, 15, 16, 17, 18]\n",
    "\n",
    "series_a = [x for x in series_a if x not in series_b]\n",
    "series_a"
   ]
  },
  {
   "cell_type": "markdown",
   "metadata": {},
   "source": [
    "### 23. Get common elements from the two arrays"
   ]
  },
  {
   "cell_type": "markdown",
   "metadata": {},
   "source": [
    "**Use the array given below:**<br>\n",
    "      \n",
    "      test_a = np.array([11,12,13,22,23,44,43,24,45,36])\n",
    "      test_b = np.array([17,22,13,22,47,34,39,44,29,28])"
   ]
  },
  {
   "cell_type": "code",
   "execution_count": 87,
   "metadata": {},
   "outputs": [
    {
     "output_type": "execute_result",
     "data": {
      "text/plain": [
       "array([13, 22, 44])"
      ]
     },
     "metadata": {},
     "execution_count": 87
    }
   ],
   "source": [
    "test_a = np.array([11,12,13,22,23,44,43,24,45,36])\n",
    "test_b = np.array([17,22,13,22,47,34,39,44,29,28])\n",
    "np.intersect1d(test_a, test_b)\n",
    "\n"
   ]
  },
  {
   "cell_type": "markdown",
   "metadata": {},
   "source": [
    "### 24. Reverse each of the rows of the 2D array"
   ]
  },
  {
   "cell_type": "markdown",
   "metadata": {},
   "source": [
    "**Use the array given below:**<br>\n",
    "\n",
    "    num_array = np.arange(20).reshape(4,5)"
   ]
  },
  {
   "cell_type": "code",
   "execution_count": null,
   "metadata": {},
   "outputs": [],
   "source": []
  },
  {
   "cell_type": "code",
   "execution_count": 82,
   "metadata": {},
   "outputs": [
    {
     "output_type": "execute_result",
     "data": {
      "text/plain": [
       "array([[ 0,  1,  2,  3,  4],\n",
       "       [ 5,  6,  7,  8,  9],\n",
       "       [10, 11, 12, 13, 14],\n",
       "       [15, 16, 17, 18, 19]])"
      ]
     },
     "metadata": {},
     "execution_count": 82
    }
   ],
   "source": [
    "num_array = np.arange(20).reshape(4,5)\n",
    "num_array"
   ]
  },
  {
   "cell_type": "code",
   "execution_count": 86,
   "metadata": {},
   "outputs": [
    {
     "output_type": "stream",
     "name": "stdout",
     "text": [
      "[[ 0  1  2  3  4]\n [ 5  6  7  8  9]\n [10 11 12 13 14]\n [15 16 17 18 19]]\n[[ 4  3  2  1  0]\n [ 9  8  7  6  5]\n [14 13 12 11 10]\n [19 18 17 16 15]]\n"
     ]
    }
   ],
   "source": [
    "print(num_array)\n",
    "\n",
    "for i, row in enumerate(num_array):\n",
    "    num_array[i] = row[::-1]\n",
    "\n",
    "print(num_array)"
   ]
  },
  {
   "cell_type": "code",
   "execution_count": null,
   "metadata": {},
   "outputs": [],
   "source": []
  }
 ],
 "metadata": {
  "kernelspec": {
   "name": "python3",
   "display_name": "Python 3.8.5 64-bit ('base': conda)"
  },
  "language_info": {
   "codemirror_mode": {
    "name": "ipython",
    "version": 3
   },
   "file_extension": ".py",
   "mimetype": "text/x-python",
   "name": "python",
   "nbconvert_exporter": "python",
   "pygments_lexer": "ipython3",
   "version": "3.8.5"
  },
  "interpreter": {
   "hash": "b3ba2566441a7c06988d0923437866b63cedc61552a5af99d1f4fb67d367b25f"
  }
 },
 "nbformat": 4,
 "nbformat_minor": 2
}