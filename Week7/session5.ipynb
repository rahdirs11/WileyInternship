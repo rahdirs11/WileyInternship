{
 "metadata": {
  "language_info": {
   "codemirror_mode": {
    "name": "ipython",
    "version": 3
   },
   "file_extension": ".py",
   "mimetype": "text/x-python",
   "name": "python",
   "nbconvert_exporter": "python",
   "pygments_lexer": "ipython3",
   "version": "3.9.1"
  },
  "orig_nbformat": 4,
  "kernelspec": {
   "name": "python3",
   "display_name": "Python 3.9.1 64-bit"
  },
  "interpreter": {
   "hash": "0ac516125b3ee16d4eaa41f008fade7bad50b808bd1b6d74d2e8ae0015ba9066"
  }
 },
 "nbformat": 4,
 "nbformat_minor": 2,
 "cells": [
  {
   "cell_type": "code",
   "execution_count": 14,
   "metadata": {},
   "outputs": [
    {
     "output_type": "execute_result",
     "data": {
      "text/plain": [
       "(43.96, 153.86)"
      ]
     },
     "metadata": {},
     "execution_count": 14
    }
   ],
   "source": [
    "class Circle:\n",
    "    pi = 3.14\n",
    "    \n",
    "    def __init__(self, radius=1):\n",
    "        self.radius = radius\n",
    "    \n",
    "    def calculate_circumference(self):\n",
    "        return 2 * self.radius * Circle().pi\n",
    "    \n",
    "    def calculate_area(self):\n",
    "        return Circle().pi * self.radius ** 2\n",
    "    \n",
    "    def dummy(self):\n",
    "        return Circle().radius\n",
    "\n",
    "circle1 = Circle(7)\n",
    "circle1.calculate_circumference(), circle1.calculate_area()"
   ]
  },
  {
   "cell_type": "code",
   "execution_count": 22,
   "metadata": {},
   "outputs": [],
   "source": [
    "class Animal:\n",
    "    def __init__(self):\n",
    "        print('Animal Class created')\n",
    "    \n",
    "    def species(self):\n",
    "        print('I am a mammal')\n",
    "    \n",
    "    def eat(self):\n",
    "        print('I am eating')\n",
    "    "
   ]
  },
  {
   "cell_type": "code",
   "execution_count": 23,
   "metadata": {},
   "outputs": [
    {
     "output_type": "stream",
     "name": "stdout",
     "text": [
      "Animal Class created\n"
     ]
    }
   ],
   "source": [
    "animal1 = Animal()"
   ]
  },
  {
   "cell_type": "code",
   "execution_count": 24,
   "metadata": {},
   "outputs": [
    {
     "output_type": "stream",
     "name": "stdout",
     "text": [
      "I am eating\nI am a mammal\n"
     ]
    }
   ],
   "source": [
    "animal1.eat()\n",
    "animal1.species()"
   ]
  },
  {
   "cell_type": "code",
   "execution_count": 25,
   "metadata": {},
   "outputs": [],
   "source": [
    "class Dog(Animal):\n",
    "    def __init__(self):\n",
    "        super().__init__()\n",
    "        print('Dog class created')\n",
    "    \n",
    "    \n",
    "    "
   ]
  },
  {
   "cell_type": "code",
   "execution_count": 27,
   "metadata": {},
   "outputs": [
    {
     "output_type": "stream",
     "name": "stdout",
     "text": [
      "Animal Class created\nDog class created\nI am eating\n"
     ]
    }
   ],
   "source": [
    "dog1 = Dog()\n",
    "dog1.eat()"
   ]
  },
  {
   "cell_type": "code",
   "execution_count": null,
   "metadata": {},
   "outputs": [],
   "source": []
  }
 ]
}