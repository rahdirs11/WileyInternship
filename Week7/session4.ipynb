{
 "metadata": {
  "language_info": {
   "codemirror_mode": {
    "name": "ipython",
    "version": 3
   },
   "file_extension": ".py",
   "mimetype": "text/x-python",
   "name": "python",
   "nbconvert_exporter": "python",
   "pygments_lexer": "ipython3",
   "version": "3.9.1"
  },
  "orig_nbformat": 4,
  "kernelspec": {
   "name": "python3",
   "display_name": "Python 3.9.1 64-bit"
  },
  "interpreter": {
   "hash": "0ac516125b3ee16d4eaa41f008fade7bad50b808bd1b6d74d2e8ae0015ba9066"
  }
 },
 "nbformat": 4,
 "nbformat_minor": 2,
 "cells": [
  {
   "cell_type": "code",
   "execution_count": 5,
   "metadata": {},
   "outputs": [],
   "source": [
    "sumArgs = lambda *x: sum(x)"
   ]
  },
  {
   "cell_type": "code",
   "execution_count": 6,
   "metadata": {},
   "outputs": [
    {
     "output_type": "execute_result",
     "data": {
      "text/plain": [
       "230"
      ]
     },
     "metadata": {},
     "execution_count": 6
    }
   ],
   "source": [
    "sumArgs(100, 50, 60, 20)"
   ]
  },
  {
   "cell_type": "code",
   "execution_count": 10,
   "metadata": {},
   "outputs": [],
   "source": [
    "def func(*args):\n",
    "    if len(args) == 0:\n",
    "        return 0\n",
    "    else:\n",
    "        return sum(args) * 0.9"
   ]
  },
  {
   "cell_type": "code",
   "execution_count": 11,
   "metadata": {},
   "outputs": [
    {
     "output_type": "execute_result",
     "data": {
      "text/plain": [
       "0"
      ]
     },
     "metadata": {},
     "execution_count": 11
    }
   ],
   "source": [
    "func()\n"
   ]
  },
  {
   "cell_type": "code",
   "execution_count": 12,
   "metadata": {},
   "outputs": [],
   "source": [
    "def fun2(**kwargs):\n",
    "    print(kwargs.get('movie', 'My movie is not there'))"
   ]
  },
  {
   "cell_type": "code",
   "execution_count": 14,
   "metadata": {},
   "outputs": [
    {
     "output_type": "stream",
     "name": "stdout",
     "text": [
      "Intern\n"
     ]
    }
   ],
   "source": [
    "fun2(movie='Intern')"
   ]
  },
  {
   "cell_type": "code",
   "execution_count": 18,
   "metadata": {},
   "outputs": [
    {
     "output_type": "stream",
     "name": "stdout",
     "text": [
      " is not a number!\n",
      " is not a number!\n",
      "2e4 is not a number!\n",
      "You have entered a number -> 34\n"
     ]
    }
   ],
   "source": [
    "def fun3(number):\n",
    "    if number.isdigit():\n",
    "        print('You have entered a number -> {}'.format(number))\n",
    "        return True\n",
    "    print(f'{number} is not a number!')\n",
    "    return False\n",
    "\n",
    "while not fun3(input('Enter your input')):\n",
    "    pass"
   ]
  },
  {
   "cell_type": "code",
   "execution_count": 19,
   "metadata": {},
   "outputs": [
    {
     "output_type": "stream",
     "name": "stdout",
     "text": [
      "t is not a number!\n",
      "You have entered a number -> 60\n"
     ]
    }
   ],
   "source": [
    "def fun4():\n",
    "    value = input('Enter your input:\\t')\n",
    "    return value, value.isdigit()\n",
    "\n",
    "while True:\n",
    "    x, y = fun4()\n",
    "    if y:\n",
    "        print(f'You have entered a number -> {x}')\n",
    "        break\n",
    "    print(f'{x} is not a number!')"
   ]
  },
  {
   "cell_type": "code",
   "execution_count": 21,
   "metadata": {},
   "outputs": [
    {
     "output_type": "execute_result",
     "data": {
      "text/plain": [
       "'win32'"
      ]
     },
     "metadata": {},
     "execution_count": 21
    }
   ],
   "source": [
    "import sys\n",
    "sys.platform"
   ]
  },
  {
   "cell_type": "code",
   "execution_count": 1,
   "metadata": {},
   "outputs": [
    {
     "output_type": "stream",
     "name": "stdout",
     "text": [
      "t is not a number!\n",
      "You have entered a number -> 10\n"
     ]
    }
   ],
   "source": [
    "import sys, os, time\n",
    "\n",
    "def fun4():\n",
    "    if sys.platform == 'win32':\n",
    "        os.system('cls')\n",
    "    elif sys.platform == 'linux' or sys.platform == 'darwin':\n",
    "        os.system('clear')\n",
    "    value = input('Enter your input:\\t')\n",
    "    return value, value.isdigit()\n",
    "\n",
    "while True:\n",
    "    x, y = fun4()\n",
    "    if y:\n",
    "        print(f'You have entered a number -> {x}')\n",
    "        break\n",
    "    print(f'{x} is not a number!')\n",
    "    time.sleep(1.5)"
   ]
  },
  {
   "cell_type": "code",
   "execution_count": 3,
   "metadata": {},
   "outputs": [
    {
     "output_type": "stream",
     "name": "stdout",
     "text": [
      "Inside func 5\nOutside func 25\n"
     ]
    }
   ],
   "source": []
  },
  {
   "cell_type": "code",
   "execution_count": null,
   "metadata": {},
   "outputs": [],
   "source": []
  }
 ]
}