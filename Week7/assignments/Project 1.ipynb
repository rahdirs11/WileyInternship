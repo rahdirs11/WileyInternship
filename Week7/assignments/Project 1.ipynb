{
 "cells": [
  {
   "cell_type": "markdown",
   "metadata": {},
   "source": []
  },
  {
   "cell_type": "markdown",
   "metadata": {},
   "source": [
    "# Milestone Project 1: Walkthrough Steps Workbook\n",
    "\n",
    "Below is a set of steps for you to follow to try to create the Tic Tac Toe Milestone Project game!"
   ]
  },
  {
   "cell_type": "markdown",
   "metadata": {},
   "source": [
    "#### Some suggested tools before you get started:\n",
    "To take input from a user:\n",
    "\n",
    "    player1 = input(\"Please pick a marker 'X' or 'O'\")\n",
    "    \n",
    "Note that input() takes in a string. If you need an integer value, use\n",
    "\n",
    "    position = int(input('Please enter a number'))\n",
    "    \n",
    "<br>To clear the screen between moves:\n",
    "\n",
    "    from IPython.display import clear_output\n",
    "    clear_output()\n",
    "    \n",
    "Note that clear_output() will only work in jupyter. To clear the screen in other IDEs, consider:\n",
    "\n",
    "    print('\\n'*100)\n",
    "    \n",
    "This scrolls the previous board up out of view. Now on to the program!"
   ]
  },
  {
   "cell_type": "markdown",
   "metadata": {},
   "source": [
    "**Step 1: Write a function that can print out a board. Set up your board as a list, where each index 1-9 corresponds with a number on a number pad, so you get a 3 by 3 board representation.**"
   ]
  },
  {
   "cell_type": "code",
   "execution_count": 111,
   "metadata": {
    "collapsed": true
   },
   "outputs": [],
   "source": [
    "from IPython.display import clear_output\n",
    "\n",
    "def display_board(board):\n",
    "    # print(board)\n",
    "    for i, v in enumerate(board):\n",
    "        if not v:\n",
    "            v = '_'\n",
    "        print(v.ljust(2, '|'), end=' ')\n",
    "        \n",
    "        if i % 3 == 2:\n",
    "            if i != 8:\n",
    "                print('\\n', '_' * 9, sep='')\n",
    "    print()\n"
   ]
  },
  {
   "cell_type": "markdown",
   "metadata": {},
   "source": [
    "**TEST Step 1:** run your function on a test version of the board list, and make adjustments as necessary"
   ]
  },
  {
   "cell_type": "code",
   "execution_count": 60,
   "metadata": {
    "collapsed": true
   },
   "outputs": [
    {
     "output_type": "stream",
     "name": "stdout",
     "text": [
      "X| O| X| \n_________\nO| X| O| \n_________\nX| O| X| "
     ]
    }
   ],
   "source": [
    "test_board = ['X','O','X','O','X','O','X','O','X']\n",
    "display_board(test_board)"
   ]
  },
  {
   "cell_type": "markdown",
   "metadata": {},
   "source": [
    "**Step 2: Write a function that can take in a player input and assign their marker as 'X' or 'O'. Think about using *while* loops to continually ask until you get a correct answer.**"
   ]
  },
  {
   "cell_type": "code",
   "execution_count": 103,
   "metadata": {
    "collapsed": true
   },
   "outputs": [],
   "source": [
    "def player_input():\n",
    "    while (y:=input('Please pick a marker => X or O:\\t')).upper().strip() not in 'XO':\n",
    "        print('PLEASE PICK EITHER X OR O!')\n",
    "        import time\n",
    "        time.sleep(1.5)\n",
    "        clear_output()\n",
    "\n",
    "    # print(f'You chose {y}')\n",
    "    return y"
   ]
  },
  {
   "cell_type": "markdown",
   "metadata": {},
   "source": [
    "**TEST Step 2:** run the function to make sure it returns the desired output"
   ]
  },
  {
   "cell_type": "code",
   "execution_count": 100,
   "metadata": {
    "collapsed": true
   },
   "outputs": [
    {
     "output_type": "stream",
     "name": "stdout",
     "text": [
      "You chose x\n"
     ]
    },
    {
     "output_type": "execute_result",
     "data": {
      "text/plain": [
       "'x'"
      ]
     },
     "metadata": {},
     "execution_count": 100
    }
   ],
   "source": [
    "x = player_input()\n"
   ]
  },
  {
   "cell_type": "markdown",
   "metadata": {},
   "source": [
    "**Step 3: Write a function that takes in the board list object, a marker ('X' or 'O'), and a desired position (number 1-9) and assigns it to the board.**"
   ]
  },
  {
   "cell_type": "code",
   "execution_count": 89,
   "metadata": {
    "collapsed": true
   },
   "outputs": [],
   "source": [
    "def place_marker(board, marker, position):\n",
    "    \n",
    "    board[position - 1] = marker\n",
    "    print(board)"
   ]
  },
  {
   "cell_type": "markdown",
   "metadata": {},
   "source": [
    "**TEST Step 3:** run the place marker function using test parameters and display the modified board"
   ]
  },
  {
   "cell_type": "code",
   "execution_count": 57,
   "metadata": {
    "collapsed": true
   },
   "outputs": [
    {
     "output_type": "stream",
     "name": "stdout",
     "text": [
      "O| X| O| \n_________\nX| O| X| \n_________\n$| X| "
     ]
    }
   ],
   "source": [
    "place_marker(test_board,'$',8)\n",
    "display_board(test_board)"
   ]
  },
  {
   "cell_type": "markdown",
   "metadata": {},
   "source": [
    "**Step 4: Write a function that takes in a board and a mark (X or O) and then checks to see if that mark has won. **"
   ]
  },
  {
   "cell_type": "code",
   "execution_count": 109,
   "metadata": {
    "collapsed": true
   },
   "outputs": [],
   "source": [
    "def win_check(board, mark):\n",
    "    \n",
    "    horizontal, vertical, leftDiagonal, rightDiagonal = True, True, True, True\n",
    "    # check for horizontal\n",
    "    i = 0\n",
    "    while i <= 8:\n",
    "        horizontal = board[i: i + 3].count(mark) == 3\n",
    "        i += 3\n",
    "    \n",
    "    # vertical\n",
    "    '''\n",
    "    0, 3, 6\n",
    "    1, 4, 7\n",
    "    2, 5, 8\n",
    "    '''\n",
    "    limit = 7\n",
    "    for i in range(3):\n",
    "        for j in range(i, limit, 3):\n",
    "            if board[j] != mark:\n",
    "                vertical = False\n",
    "                break\n",
    "        if vertical:\n",
    "            break\n",
    "        limit += 1\n",
    "    \n",
    "    # left diagonal\n",
    "    '''\n",
    "    0 1 2\n",
    "    3 4 5\n",
    "    6 7 8\n",
    "    '''\n",
    "    leftDiagonal = board[0] == board[4] == board[8] == mark\n",
    "    rightDiagonal = board[2] == board[4] == board[6] == mark\n",
    "    # print(mark, leftDiagonal, rightDiagonal, vertical, horizontal)\n",
    "\n",
    "    return leftDiagonal or rightDiagonal or vertical or horizontal\n",
    "    \n",
    "\n",
    "    "
   ]
  },
  {
   "cell_type": "markdown",
   "metadata": {},
   "source": [
    "**TEST Step 4:** run the win_check function against our test_board - it should return True"
   ]
  },
  {
   "cell_type": "code",
   "execution_count": 36,
   "metadata": {
    "collapsed": true
   },
   "outputs": [
    {
     "output_type": "stream",
     "name": "stdout",
     "text": [
      "False False True True\n"
     ]
    },
    {
     "output_type": "execute_result",
     "data": {
      "text/plain": [
       "True"
      ]
     },
     "metadata": {},
     "execution_count": 36
    }
   ],
   "source": [
    "win_check(test_board,'X')"
   ]
  },
  {
   "cell_type": "markdown",
   "metadata": {},
   "source": [
    "**Step 5: Write a function that uses the random module to randomly decide which player goes first. You may want to lookup random.randint() Return a string of which player went first.**"
   ]
  },
  {
   "cell_type": "code",
   "execution_count": 83,
   "metadata": {
    "collapsed": true
   },
   "outputs": [
    {
     "output_type": "execute_result",
     "data": {
      "text/plain": [
       "2"
      ]
     },
     "metadata": {},
     "execution_count": 83
    }
   ],
   "source": [
    "import random\n",
    "\n",
    "def choose_first():\n",
    "    return random.randint(1, 2) \n",
    "\n",
    "choose_first()"
   ]
  },
  {
   "cell_type": "markdown",
   "metadata": {},
   "source": [
    "**Step 6: Write a function that returns a boolean indicating whether a space on the board is freely available.**"
   ]
  },
  {
   "cell_type": "code",
   "execution_count": 77,
   "metadata": {
    "collapsed": true
   },
   "outputs": [],
   "source": [
    "def space_check(board, position):\n",
    "    \n",
    "    return position in range(1, 10) and board[position - 1] == '' "
   ]
  },
  {
   "cell_type": "markdown",
   "metadata": {},
   "source": [
    "**Step 7: Write a function that checks if the board is full and returns a boolean value. True if full, False otherwise.**"
   ]
  },
  {
   "cell_type": "code",
   "execution_count": 43,
   "metadata": {
    "collapsed": true
   },
   "outputs": [],
   "source": [
    "def full_board_check(board):\n",
    "    \n",
    "    return board.count('') == 0"
   ]
  },
  {
   "cell_type": "markdown",
   "metadata": {},
   "source": [
    "**Step 8: Write a function that asks for a player's next position (as a number 1-9) and then uses the function from step 6 to check if it's a free position. If it is, then return the position for later use.**"
   ]
  },
  {
   "cell_type": "code",
   "execution_count": 66,
   "metadata": {
    "collapsed": true
   },
   "outputs": [],
   "source": [
    "def player_choice(board):\n",
    "    if full_board_check(board):\n",
    "        pass    # no use asking for users input if the board is full\n",
    "    position = int(input('Please enter the position you want to place your marker (1 - 9):\\t'))\n",
    "\n",
    "    while not space_check(board, position):\n",
    "        import time\n",
    "        print(f'That position has been taken already or it is an invalid input {position}!\\nPlease enter another position!')\n",
    "        time.sleep(1.5)\n",
    "        clear_output()\n",
    "        position = int(input('Please enter the position you want to place your marker (1 - 9):\\t'))\n",
    "\n",
    "    display_board(board)\n",
    "    return position\n",
    "    \n",
    "        "
   ]
  },
  {
   "cell_type": "markdown",
   "metadata": {},
   "source": [
    "**Step 9: Write a function that asks the player if they want to play again and returns a boolean True if they do want to play again.**"
   ]
  },
  {
   "cell_type": "code",
   "execution_count": 46,
   "metadata": {
    "collapsed": true
   },
   "outputs": [],
   "source": [
    "def replay():\n",
    "    \n",
    "    return (choice:=input('Enter Y to replay, N to exit\\nChoice =>')).lower() == 'y'"
   ]
  },
  {
   "cell_type": "markdown",
   "metadata": {
    "collapsed": true
   },
   "source": [
    "**Step 10: Here comes the hard part! Use while loops and the functions you've made to run the game!**"
   ]
  },
  {
   "cell_type": "code",
   "execution_count": 110,
   "metadata": {
    "collapsed": true
   },
   "outputs": [
    {
     "output_type": "stream",
     "name": "stdout",
     "text": [
      "x| o| _| \n",
      "_________\n",
      "x| o| _| \n",
      "_________\n",
      "_| _| _| \n",
      "Player 2 => \n",
      "x| o| _| \n",
      "_________\n",
      "x| o| _| \n",
      "_________\n",
      "_| _| _| \n",
      "['x', 'o', '', 'x', 'o', '', 'x', '', '']\n",
      "PLAYER 3 HAS WON!!!\n"
     ]
    }
   ],
   "source": [
    "print('Welcome to Tic Tac Toe!')\n",
    "\n",
    "board = ['', '', '', '', '', '', '', '', '']\n",
    "turn = choose_first()\n",
    "\n",
    "player1, player2 = '', ''\n",
    "\n",
    "won = False\n",
    "\n",
    "while not full_board_check(board):\n",
    "    clear_output()\n",
    "    display_board(board)\n",
    "    print(f'Player {turn} => ')\n",
    "    marker = player_input()\n",
    "    if player1 == player2 == '':\n",
    "        if turn == 1:\n",
    "            player1 = marker\n",
    "        else:\n",
    "            player2 = marker\n",
    "    else:\n",
    "        if turn == 1:\n",
    "            if player1 == '':\n",
    "                if player2 != marker:\n",
    "                    player1 = marker\n",
    "                else:\n",
    "                    print(f'Player 1, your marker is not {marker}!\\nPlease re-enter your marker')\n",
    "                    continue\n",
    "        else:\n",
    "            if player2 == '':\n",
    "                if player1 != marker:\n",
    "                    player2 = marker\n",
    "                else:\n",
    "                    print(f'Player 2, your marker is not {marker}!\\nPlease re-enter your marker')\n",
    "                    continue\n",
    "\n",
    "\n",
    "    position = player_choice(board)\n",
    "    \n",
    "    place_marker(board, player1 if turn == 1 else player2, position)\n",
    "\n",
    "    if win_check(board, player1 if turn == 1 else player2):\n",
    "        # clear_output()\n",
    "        won = not won\n",
    "        print(f'PLAYER {turn + 1} HAS WON!!!')\n",
    "        break\n",
    "    turn = 1 if turn == 2 else 2\n",
    "\n",
    "if not won:\n",
    "    print('DRAW!!')\n",
    "\n",
    "#while True:\n",
    "    # Set the game up here\n",
    "    #pass\n",
    "\n",
    "    #while game_on:\n",
    "        #Player 1 Turn\n",
    "        \n",
    "        \n",
    "        # Player2's turn.\n",
    "            \n",
    "            #pass\n",
    "\n",
    "    #if not replay():\n",
    "        #break"
   ]
  },
  {
   "cell_type": "markdown",
   "metadata": {
    "collapsed": true
   },
   "source": []
  },
  {
   "cell_type": "code",
   "execution_count": null,
   "metadata": {},
   "outputs": [],
   "source": []
  }
 ],
 "metadata": {
  "kernelspec": {
   "name": "python3",
   "display_name": "Python 3.8.5 64-bit ('base': conda)"
  },
  "language_info": {
   "codemirror_mode": {
    "name": "ipython",
    "version": 3
   },
   "file_extension": ".py",
   "mimetype": "text/x-python",
   "name": "python",
   "nbconvert_exporter": "python",
   "pygments_lexer": "ipython3",
   "version": "3.8.5"
  },
  "interpreter": {
   "hash": "b3ba2566441a7c06988d0923437866b63cedc61552a5af99d1f4fb67d367b25f"
  }
 },
 "nbformat": 4,
 "nbformat_minor": 1
}