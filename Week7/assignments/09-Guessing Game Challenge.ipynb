{
 "cells": [
  {
   "cell_type": "markdown",
   "metadata": {},
   "source": []
  },
  {
   "cell_type": "markdown",
   "metadata": {},
   "source": [
    "# Guessing Game Challenge\n",
    "\n",
    "Let's use `while` loops to create a guessing game.\n",
    "\n",
    "The Challenge:\n",
    "\n",
    "Write a program that picks a random integer from 1 to 100, and has players guess the number. The rules are:\n",
    "\n",
    "1. If a player's guess is less than 1 or greater than 100, say \"OUT OF BOUNDS\"\n",
    "2. On a player's first turn, if their guess is\n",
    " * within 10 of the number, return \"WARM!\"\n",
    " * further than 10 away from the number, return \"COLD!\"\n",
    "3. On all subsequent turns, if a guess is \n",
    " * closer to the number than the previous guess return \"WARMER!\"\n",
    " * farther from the number than the previous guess, return \"COLDER!\"\n",
    "4. When the player's guess equals the number, tell them they've guessed correctly *and* how many guesses it took!\n",
    "\n",
    "You can try this from scratch, or follow the steps outlined below. A separate Solution notebook has been provided. Good luck!\n"
   ]
  },
  {
   "cell_type": "markdown",
   "metadata": {},
   "source": [
    "#### First, pick a random integer from 1 to 100 using the random module and assign it to a variable\n",
    "\n",
    "Note: `random.randint(a,b)` returns a random integer in range `[a, b]`, including both end points."
   ]
  },
  {
   "cell_type": "code",
   "execution_count": 35,
   "metadata": {
    "collapsed": true
   },
   "outputs": [
    {
     "output_type": "stream",
     "name": "stdout",
     "text": [
      "Warm\n",
      "Warmer\n",
      "Warmer\n",
      "SUCCESS!! The number is 3\n",
      "It took you 4 to guess the number!\n",
      "The guesses are => \n",
      "6, 1, 4, 3\n"
     ]
    }
   ],
   "source": [
    "from random import randint\n",
    "\n",
    "guesses = [0]\n",
    "randomNumber = randint(1, 100)\n",
    "difference = 0\n",
    "guessed = False\n",
    "\n",
    "while not guessed:\n",
    "    number = int(input('Enter your guessed value'))\n",
    "    if number not in range(1, 101):\n",
    "        print('Out of bounds!')\n",
    "        continue\n",
    "    guesses.append(number)\n",
    "    if number == randomNumber:\n",
    "        guessed = True\n",
    "        print(f'SUCCESS!! The number is {number}')\n",
    "    else:\n",
    "        if difference == 0:\n",
    "            difference = abs(randomNumber - number)\n",
    "            print('Warm' if difference in range(10) else 'Cold')\n",
    "        else:\n",
    "            currDiff = abs(randomNumber - number)\n",
    "            print('Warmer' if currDiff < difference else 'Colder')\n",
    "            difference = currDiff\n",
    "\n",
    "print(f'It took you {len(guesses) - 1} to guess the number!\\nThe guesses are => \\n{\", \".join(map(str, guesses[1: ]))}')"
   ]
  },
  {
   "cell_type": "markdown",
   "metadata": {},
   "source": [
    "#### Next, print an introduction to the game and explain the rules"
   ]
  },
  {
   "cell_type": "code",
   "execution_count": 26,
   "metadata": {
    "collapsed": true
   },
   "outputs": [
    {
     "output_type": "stream",
     "name": "stdout",
     "text": [
      "INSTRUCTIONS =>\n=> Enter any number between 1 to 100 (inclusive)\n=> On the first guess if your number is within 10 from the number you are guessing, then you will get a \"Warm\" message, else \n"
     ]
    }
   ],
   "source": [
    "print('''INSTRUCTIONS =>\n",
    "=> Enter any number between 1 to 100 (inclusive)\n",
    "=> On the first guess if your number is within 10 from the number you are guessing, then you will get a \"Warm\" message, else \"Cold\"\n",
    "=> On subsequent guesses, if the difference between the guessed number and the number to be guessed is less than the previous difference, you\n",
    "    would get a message - \"Warmer\", else \"Colder\"\n",
    "=> If by any chance, you enter a number < 1 or > 100, you would get \"Out of Bounds\"''')"
   ]
  },
  {
   "cell_type": "markdown",
   "metadata": {},
   "source": [
    "#### Create a list to store guesses\n",
    "\n",
    "Hint: zero is a good placeholder value. It's useful because it evaluates to \"False\""
   ]
  },
  {
   "cell_type": "code",
   "execution_count": null,
   "metadata": {
    "collapsed": true
   },
   "outputs": [],
   "source": []
  },
  {
   "cell_type": "markdown",
   "metadata": {},
   "source": [
    "#### Write a `while` loop that asks for a valid guess. Test it a few times to make sure it works."
   ]
  },
  {
   "cell_type": "code",
   "execution_count": null,
   "metadata": {
    "collapsed": true
   },
   "outputs": [],
   "source": [
    "while True:\n",
    "    \n",
    "    pass"
   ]
  },
  {
   "cell_type": "markdown",
   "metadata": {},
   "source": [
    "#### Write a `while` loop that compares the player's guess to our number. If the player guesses correctly, break from the loop. Otherwise, tell the player if they're warmer or colder, and continue asking for guesses.\n",
    "\n",
    "Some hints:\n",
    "* it may help to sketch out all possible combinations on paper first!\n",
    "* you can use the `abs()` function to find the positive difference between two numbers\n",
    "* if you append all new guesses to the list, then the previous guess is given as `guesses[-2]`"
   ]
  },
  {
   "cell_type": "code",
   "execution_count": null,
   "metadata": {
    "collapsed": true
   },
   "outputs": [],
   "source": [
    "# I have written the entire code in the first cell above!\n",
    "while True:\n",
    "\n",
    "    # we can copy the code from above to take an input\n",
    "\n",
    "    pass"
   ]
  },
  {
   "cell_type": "markdown",
   "metadata": {},
   "source": [
    "That's it! You've just programmed your first game!\n",
    "\n",
    "In the next section we'll learn how to turn some of these repetitive actions into *functions* that can be called whenever we need them."
   ]
  },
  {
   "cell_type": "markdown",
   "metadata": {},
   "source": []
  }
 ],
 "metadata": {
  "kernelspec": {
   "name": "python3",
   "display_name": "Python 3.8.5 64-bit ('base': conda)"
  },
  "language_info": {
   "codemirror_mode": {
    "name": "ipython",
    "version": 3
   },
   "file_extension": ".py",
   "mimetype": "text/x-python",
   "name": "python",
   "nbconvert_exporter": "python",
   "pygments_lexer": "ipython3",
   "version": "3.8.5"
  },
  "interpreter": {
   "hash": "b3ba2566441a7c06988d0923437866b63cedc61552a5af99d1f4fb67d367b25f"
  }
 },
 "nbformat": 4,
 "nbformat_minor": 2
}